{
 "cells": [
  {
   "cell_type": "markdown",
   "metadata": {},
   "source": [
    "## Programming Analytics:  Healthcare Coverage in the U.S.A.\n",
    "### Team Members:\n",
    "* Yuttawee Kongtananan (GitHub ID: yuttk)\n",
    "* Vel (Tien-Yun) Wu (GitHub ID: velwu)\n",
    "* Eva (Yi-Ting) Huang (GitHub ID: iameva62948)"
   ]
  },
  {
   "cell_type": "code",
   "execution_count": 10,
   "metadata": {},
   "outputs": [],
   "source": [
    "import pandas as pd\n",
    "import matplotlib\n",
    "import matplotlib.pyplot as plt\n",
    "matplotlib.rcParams[\"font.family\"] = \"fantasy\"\n",
    "import numpy as np\n",
    "import random\n",
    "import scipy\n",
    "import scipy.misc\n",
    "import scipy.cluster\n",
    "\n",
    "from pandas.io.json import json_normalize\n",
    "import plotly.express as px\n",
    "import plotly.graph_objects as pgo\n",
    "import plotly.offline as pol\n",
    "import importlib\n",
    "import ipywidgets"
   ]
  },
  {
   "cell_type": "code",
   "execution_count": 11,
   "metadata": {},
   "outputs": [
    {
     "name": "stdout",
     "output_type": "stream",
     "text": [
      "Import of central_analysis.py is successful\n"
     ]
    }
   ],
   "source": [
    "clas = importlib.import_module('central_analysis')\n",
    "print(\"Import of central_analysis.py is successful\")"
   ]
  },
  {
   "cell_type": "markdown",
   "metadata": {},
   "source": [
    "## Dataset 1: Unemployment Rate"
   ]
  },
  {
   "cell_type": "code",
   "execution_count": 12,
   "metadata": {},
   "outputs": [
    {
     "data": {
      "text/plain": [
       "<Figure size 432x288 with 0 Axes>"
      ]
     },
     "metadata": {},
     "output_type": "display_data"
    },
    {
     "data": {
      "application/vnd.jupyter.widget-view+json": {
       "model_id": "1c2490b2506d4f8d83a6ac75e0bfd1ce",
       "version_major": 2,
       "version_minor": 0
      },
      "text/plain": [
       "interactive(children=(Dropdown(description='end_year', index=3, options=(2009, 2010, 2011, 2012, 2013, 2014, 2…"
      ]
     },
     "metadata": {},
     "output_type": "display_data"
    }
   ],
   "source": [
    "plt.clf()\n",
    "year_slider = range(2009, 2019, 1)\n",
    "data_toggle = ipywidgets.Checkbox(False, description='Show Data')\n",
    "@ipywidgets.interact(end_year = year_slider, show_data = data_toggle)\n",
    "def check_unployment(end_year = 2012, show_data = False):\n",
    "    data_un = clas.read_unemployment_by_year(2008, end_year, True)\n",
    "    if show_data:\n",
    "        display(data_un)"
   ]
  },
  {
   "cell_type": "markdown",
   "metadata": {},
   "source": [
    "## Dataset 2: Insurance Coverage of different Types and Years\n",
    "- Different types of insurance have different coverages\n",
    "- At the same time, a single type of insurance also has ebbs and flows thorughout the years"
   ]
  },
  {
   "cell_type": "code",
   "execution_count": 13,
   "metadata": {},
   "outputs": [
    {
     "data": {
      "text/plain": [
       "<Figure size 432x288 with 0 Axes>"
      ]
     },
     "metadata": {},
     "output_type": "display_data"
    },
    {
     "data": {
      "application/vnd.jupyter.widget-view+json": {
       "model_id": "661f7e4381fb4aeda4a664e7d871b808",
       "version_major": 2,
       "version_minor": 0
      },
      "text/plain": [
       "interactive(children=(Dropdown(description='insurance_type', options=('Any coverage', 'Uninsured', 'Private', …"
      ]
     },
     "metadata": {},
     "output_type": "display_data"
    }
   ],
   "source": [
    "plt.clf()\n",
    "insurance_type = ['Any coverage', 'Uninsured', 'Private', '..Employer-based', '..Direct-purchase', '..TRICARE', 'Public', '..Medicaid', '..Medicare', '..VA Care']\n",
    "year_slider = ipywidgets.IntSlider(min= 2008,max=2018,step=1,value=2012, description='Year')\n",
    "color_theme = ['Blackbody','Bluered','Blues','Earth','Electric','Greens','Greys','Hot','Jet','Picnic','Portland','Rainbow','RdBu','Reds','Viridis','YlGnBu','YlOrRd']\n",
    "\n",
    "@ipywidgets.interact(insurance_type = insurance_type,\n",
    "                     choice_of_year = year_slider, \n",
    "                     map_theme = color_theme)\n",
    "def customized_choropleth(insurance_type = 'Any coverage', choice_of_year = 2012, map_theme = 'Earth'):\n",
    "    demo_df_to_map = clas.read_health_care_coverage_by_year(2008, 2018, insurance_type, False)\n",
    "    clas.spawn_choropleth_from_dataframe(demo_df_to_map, choice_of_year, str(insurance_type) + ' type Year ' + str(choice_of_year), map_theme, \"% by state\", True)"
   ]
  },
  {
   "cell_type": "markdown",
   "metadata": {},
   "source": [
    "## Dataset 3: Household Income\n",
    "-  We can pass the same dataset into different plots and switch between them efficiently.\n",
    "- This is a demomonstration of the **modularity** and **optimization** of our functions which divide the tasks of getting data and plotting them."
   ]
  },
  {
   "cell_type": "code",
   "execution_count": 14,
   "metadata": {},
   "outputs": [
    {
     "data": {
      "text/plain": [
       "<Figure size 432x288 with 0 Axes>"
      ]
     },
     "metadata": {},
     "output_type": "display_data"
    },
    {
     "data": {
      "application/vnd.jupyter.widget-view+json": {
       "model_id": "7fc6b261b3c741a6baee1f97267afb72",
       "version_major": 2,
       "version_minor": 0
      },
      "text/plain": [
       "interactive(children=(Dropdown(description='plot_type', options=('Line Plot', 'Choropleth Map'), value='Line P…"
      ]
     },
     "metadata": {},
     "output_type": "display_data"
    }
   ],
   "source": [
    "plt.clf()\n",
    "plot_type = [\"Line Plot\", \"Choropleth Map\"]\n",
    "@ipywidgets.interact(plot_type = plot_type)\n",
    "def choose_a_graph_for_HHI(plot_type = \"Line Plot\"):\n",
    "    demo_df_to_map = clas.read_household_income_by_year(1984, 2018, False)\n",
    "    if plot_type == \"Line Plot\":\n",
    "        clas.spawn_line_plot_from_dataframe(demo_df_to_map, \"Household Income (USD) by State and Years\", \"Years\", \"Household Income (USD)\")\n",
    "    if plot_type == \"Choropleth Map\":\n",
    "        clas.spawn_choropleth_from_dataframe(demo_df_to_map, 2018, \"Household Income (USD) by State Year 2018\", \"Greens\", \"% by state\", True)"
   ]
  },
  {
   "cell_type": "markdown",
   "metadata": {},
   "source": [
    "## Dataset 4 : CPI"
   ]
  },
  {
   "cell_type": "code",
   "execution_count": 15,
   "metadata": {},
   "outputs": [
    {
     "data": {
      "text/html": [
       "<div>\n",
       "<style scoped>\n",
       "    .dataframe tbody tr th:only-of-type {\n",
       "        vertical-align: middle;\n",
       "    }\n",
       "\n",
       "    .dataframe tbody tr th {\n",
       "        vertical-align: top;\n",
       "    }\n",
       "\n",
       "    .dataframe thead th {\n",
       "        text-align: right;\n",
       "    }\n",
       "</style>\n",
       "<table border=\"1\" class=\"dataframe\">\n",
       "  <thead>\n",
       "    <tr style=\"text-align: right;\">\n",
       "      <th></th>\n",
       "      <th>Years</th>\n",
       "      <th>CPI All items</th>\n",
       "      <th>CPI Medical</th>\n",
       "      <th>CPI All items Growth</th>\n",
       "      <th>CPI Medical Growth</th>\n",
       "    </tr>\n",
       "  </thead>\n",
       "  <tbody>\n",
       "    <tr>\n",
       "      <th>68</th>\n",
       "      <td>2003</td>\n",
       "      <td>282.712487</td>\n",
       "      <td>230.703265</td>\n",
       "      <td>0.022900</td>\n",
       "      <td>0.043289</td>\n",
       "    </tr>\n",
       "    <tr>\n",
       "      <th>69</th>\n",
       "      <td>2004</td>\n",
       "      <td>290.103915</td>\n",
       "      <td>240.503673</td>\n",
       "      <td>0.026145</td>\n",
       "      <td>0.042481</td>\n",
       "    </tr>\n",
       "    <tr>\n",
       "      <th>70</th>\n",
       "      <td>2005</td>\n",
       "      <td>300.261587</td>\n",
       "      <td>249.743089</td>\n",
       "      <td>0.035014</td>\n",
       "      <td>0.038417</td>\n",
       "    </tr>\n",
       "    <tr>\n",
       "      <th>71</th>\n",
       "      <td>2006</td>\n",
       "      <td>310.179259</td>\n",
       "      <td>253.052907</td>\n",
       "      <td>0.033030</td>\n",
       "      <td>0.013253</td>\n",
       "    </tr>\n",
       "    <tr>\n",
       "      <th>72</th>\n",
       "      <td>2007</td>\n",
       "      <td>319.028324</td>\n",
       "      <td>264.378149</td>\n",
       "      <td>0.028529</td>\n",
       "      <td>0.044754</td>\n",
       "    </tr>\n",
       "    <tr>\n",
       "      <th>73</th>\n",
       "      <td>2008</td>\n",
       "      <td>331.171117</td>\n",
       "      <td>275.691428</td>\n",
       "      <td>0.038062</td>\n",
       "      <td>0.042792</td>\n",
       "    </tr>\n",
       "    <tr>\n",
       "      <th>74</th>\n",
       "      <td>2009</td>\n",
       "      <td>329.985225</td>\n",
       "      <td>285.144522</td>\n",
       "      <td>-0.003581</td>\n",
       "      <td>0.034289</td>\n",
       "    </tr>\n",
       "    <tr>\n",
       "      <th>75</th>\n",
       "      <td>2010</td>\n",
       "      <td>335.103959</td>\n",
       "      <td>283.881984</td>\n",
       "      <td>0.015512</td>\n",
       "      <td>-0.004428</td>\n",
       "    </tr>\n",
       "    <tr>\n",
       "      <th>76</th>\n",
       "      <td>2011</td>\n",
       "      <td>345.417992</td>\n",
       "      <td>290.193227</td>\n",
       "      <td>0.030779</td>\n",
       "      <td>0.022232</td>\n",
       "    </tr>\n",
       "    <tr>\n",
       "      <th>77</th>\n",
       "      <td>2012</td>\n",
       "      <td>352.577801</td>\n",
       "      <td>299.527723</td>\n",
       "      <td>0.020728</td>\n",
       "      <td>0.032166</td>\n",
       "    </tr>\n",
       "    <tr>\n",
       "      <th>78</th>\n",
       "      <td>2013</td>\n",
       "      <td>357.823195</td>\n",
       "      <td>307.488614</td>\n",
       "      <td>0.014877</td>\n",
       "      <td>0.026578</td>\n",
       "    </tr>\n",
       "    <tr>\n",
       "      <th>79</th>\n",
       "      <td>2014</td>\n",
       "      <td>363.719483</td>\n",
       "      <td>316.259384</td>\n",
       "      <td>0.016478</td>\n",
       "      <td>0.028524</td>\n",
       "    </tr>\n",
       "    <tr>\n",
       "      <th>80</th>\n",
       "      <td>2015</td>\n",
       "      <td>366.718079</td>\n",
       "      <td>325.255346</td>\n",
       "      <td>0.008244</td>\n",
       "      <td>0.028445</td>\n",
       "    </tr>\n",
       "    <tr>\n",
       "      <th>81</th>\n",
       "      <td>2016</td>\n",
       "      <td>371.734297</td>\n",
       "      <td>336.737765</td>\n",
       "      <td>0.013679</td>\n",
       "      <td>0.035303</td>\n",
       "    </tr>\n",
       "    <tr>\n",
       "      <th>82</th>\n",
       "      <td>2017</td>\n",
       "      <td>377.982001</td>\n",
       "      <td>346.200748</td>\n",
       "      <td>0.016807</td>\n",
       "      <td>0.028102</td>\n",
       "    </tr>\n",
       "    <tr>\n",
       "      <th>83</th>\n",
       "      <td>2018</td>\n",
       "      <td>351.180026</td>\n",
       "      <td>352.108846</td>\n",
       "      <td>-0.070908</td>\n",
       "      <td>0.017066</td>\n",
       "    </tr>\n",
       "    <tr>\n",
       "      <th>84</th>\n",
       "      <td>2019</td>\n",
       "      <td>361.239565</td>\n",
       "      <td>358.657237</td>\n",
       "      <td>0.028645</td>\n",
       "      <td>0.018598</td>\n",
       "    </tr>\n",
       "    <tr>\n",
       "      <th>85</th>\n",
       "      <td>2020</td>\n",
       "      <td>354.925631</td>\n",
       "      <td>372.052548</td>\n",
       "      <td>-0.017479</td>\n",
       "      <td>0.037349</td>\n",
       "    </tr>\n",
       "  </tbody>\n",
       "</table>\n",
       "</div>"
      ],
      "text/plain": [
       "    Years  CPI All items  CPI Medical  CPI All items Growth  \\\n",
       "68   2003     282.712487   230.703265              0.022900   \n",
       "69   2004     290.103915   240.503673              0.026145   \n",
       "70   2005     300.261587   249.743089              0.035014   \n",
       "71   2006     310.179259   253.052907              0.033030   \n",
       "72   2007     319.028324   264.378149              0.028529   \n",
       "73   2008     331.171117   275.691428              0.038062   \n",
       "74   2009     329.985225   285.144522             -0.003581   \n",
       "75   2010     335.103959   283.881984              0.015512   \n",
       "76   2011     345.417992   290.193227              0.030779   \n",
       "77   2012     352.577801   299.527723              0.020728   \n",
       "78   2013     357.823195   307.488614              0.014877   \n",
       "79   2014     363.719483   316.259384              0.016478   \n",
       "80   2015     366.718079   325.255346              0.008244   \n",
       "81   2016     371.734297   336.737765              0.013679   \n",
       "82   2017     377.982001   346.200748              0.016807   \n",
       "83   2018     351.180026   352.108846             -0.070908   \n",
       "84   2019     361.239565   358.657237              0.028645   \n",
       "85   2020     354.925631   372.052548             -0.017479   \n",
       "\n",
       "    CPI Medical Growth  \n",
       "68            0.043289  \n",
       "69            0.042481  \n",
       "70            0.038417  \n",
       "71            0.013253  \n",
       "72            0.044754  \n",
       "73            0.042792  \n",
       "74            0.034289  \n",
       "75           -0.004428  \n",
       "76            0.022232  \n",
       "77            0.032166  \n",
       "78            0.026578  \n",
       "79            0.028524  \n",
       "80            0.028445  \n",
       "81            0.035303  \n",
       "82            0.028102  \n",
       "83            0.017066  \n",
       "84            0.018598  \n",
       "85            0.037349  "
      ]
     },
     "execution_count": 15,
     "metadata": {},
     "output_type": "execute_result"
    }
   ],
   "source": [
    "demo_df_cpi = clas.read_cpi_by_year(2003, 2020)\n",
    "demo_df_cpi"
   ]
  },
  {
   "cell_type": "markdown",
   "metadata": {},
   "source": [
    "## Correlations:"
   ]
  },
  {
   "cell_type": "code",
   "execution_count": 16,
   "metadata": {},
   "outputs": [],
   "source": [
    "demo_df_un = clas.read_unemployment_by_year(2008, 2018, False)\n",
    "demo_df_hc = clas.read_health_care_coverage_by_year(2008, 2018, 'Private', False)\n",
    "demo_df_hh_ic = clas.read_household_income_by_year(1991, 2018, False)"
   ]
  },
  {
   "cell_type": "code",
   "execution_count": 29,
   "metadata": {},
   "outputs": [
    {
     "data": {
      "application/vnd.jupyter.widget-view+json": {
       "model_id": "dd8ffce4c27946b3b5ff26d519b79742",
       "version_major": 2,
       "version_minor": 0
      },
      "text/plain": [
       "interactive(children=(Dropdown(description='insurance_type', options=('Any coverage', 'Uninsured', 'Private', …"
      ]
     },
     "metadata": {},
     "output_type": "display_data"
    }
   ],
   "source": [
    "insurance_type = ['Any coverage', 'Uninsured', 'Private', '..Employer-based', '..Direct-purchase', '..TRICARE', 'Public', '..Medicaid', '..Medicare', '..VA Care']\n",
    "growth_rate_var = [\"None\", \"First\", \"Second\", \"Both\"]\n",
    "data_toggle = ipywidgets.Checkbox(False, description='Show Data')\n",
    "plot_toggle = ipywidgets.Checkbox(True, description='Show Plot')\n",
    "\n",
    "@ipywidgets.interact(insurance_type = insurance_type, corr_type = growth_rate_var, data_toggle = data_toggle, plot_toggle = plot_toggle)\n",
    "def choose_a_method_for_corr(insurance_type = \"Any coverage\", corr_type = \"None\", data_toggle = False, plot_toggle = True):\n",
    "    demo_df_hc = clas.read_health_care_coverage_by_year(2008, 2018, insurance_type, False)\n",
    "    clas.merging_dataframes_on_years_plus_correlations(demo_df_hc, demo_df_hh_ic, \"Healthcare coverage\", \"HH Income\", \n",
    "                                                   corr_type, data_toggle, plot_toggle)"
   ]
  },
  {
   "cell_type": "code",
   "execution_count": 30,
   "metadata": {},
   "outputs": [
    {
     "data": {
      "application/vnd.jupyter.widget-view+json": {
       "model_id": "0325fa193397405eabac5cfbe0583057",
       "version_major": 2,
       "version_minor": 0
      },
      "text/plain": [
       "interactive(children=(Dropdown(description='insurance_type', options=('Any coverage', 'Uninsured', 'Private', …"
      ]
     },
     "metadata": {},
     "output_type": "display_data"
    }
   ],
   "source": [
    "insurance_type = ['Any coverage', 'Uninsured', 'Private', '..Employer-based', '..Direct-purchase', '..TRICARE', 'Public', '..Medicaid', '..Medicare', '..VA Care']\n",
    "growth_rate_var = [\"None\", \"First\", \"Second\", \"Both\"]\n",
    "data_toggle = ipywidgets.Checkbox(False, description='Show Data')\n",
    "plot_toggle = ipywidgets.Checkbox(True, description='Show Plot')\n",
    "@ipywidgets.interact(insurance_type = insurance_type, corr_type = growth_rate_var, data_toggle = data_toggle, plot_toggle = plot_toggle)\n",
    "def choose_a_method_for_corr_2(insurance_type = \"Any coverage\", corr_type = \"None\", data_toggle = False, plot_toggle = True):\n",
    "    demo_df_hc = clas.read_health_care_coverage_by_year(2008, 2018, insurance_type, False)\n",
    "    clas.merging_dataframes_on_years_plus_correlations(demo_df_hc, demo_df_un, \"Healthcare coverage\", \"Unemployment\", corr_type, data_toggle, plot_toggle)\n"
   ]
  },
  {
   "cell_type": "code",
   "execution_count": null,
   "metadata": {},
   "outputs": [],
   "source": []
  }
 ],
 "metadata": {
  "kernelspec": {
   "display_name": "PyCharm (final_project_2020Sp)",
   "language": "python",
   "name": "pycharm-537354a8"
  },
  "language_info": {
   "codemirror_mode": {
    "name": "ipython",
    "version": 3
   },
   "file_extension": ".py",
   "mimetype": "text/x-python",
   "name": "python",
   "nbconvert_exporter": "python",
   "pygments_lexer": "ipython3",
   "version": "3.7.6"
  }
 },
 "nbformat": 4,
 "nbformat_minor": 2
}
